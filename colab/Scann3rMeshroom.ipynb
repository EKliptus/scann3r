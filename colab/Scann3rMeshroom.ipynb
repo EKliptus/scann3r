{
  "nbformat": 4,
  "nbformat_minor": 0,
  "metadata": {
    "colab": {
      "name": "Scann3rMeshroom.ipynb",
      "provenance": []
    },
    "kernelspec": {
      "name": "python3",
      "display_name": "Python 3"
    },
    "accelerator": "GPU"
  },
  "cells": [
    {
      "cell_type": "code",
      "metadata": {
        "id": "RQy3xeM-Tns5"
      },
      "source": [
        "#@title File Location\n",
        "#@text foo\n",
        "\n",
        "ZIPUrl = '' #@param {type:\"string\"}\n",
        "\n",
        "%cd /content\n",
        "!rm -rf temp\n",
        "!rm -rf input\n",
        "!rm -rf out\n",
        "!rm -rf meshroom\n",
        "!mkdir temp\n",
        "!mkdir input\n",
        "!mkdir out\n",
        "!mkdir meshroom\n",
        "\n",
        "print(\"Downloading Images...\")\n",
        "!wget -O images.zip $ZIPUrl\n",
        "!unzip images.zip -d ./input\n",
        "\n",
        "import os.path\n",
        "if not os.path.isfile('./input/0-0.jpg'):\n",
        "\n",
        "    print(\"First image not found. Stopping.\")\n",
        "\n",
        "else:\n",
        "\n",
        "  print(\"Downloading & installing Meshroom...\")\n",
        "  %cd temp\n",
        "  !wget -N https://github.com/alicevision/meshroom/releases/download/v2019.2.0/Meshroom-2019.2.0-linux.tar.gz\n",
        "  !tar -xf Meshroom-2019.2.0-linux.tar.gz -C ../meshroom\n",
        "\n",
        "  print(\"Running Meshroom...\")\n",
        "  !/content/meshroom/Meshroom-2019.2.0/meshroom_photogrammetry --cache /content/out/MeshroomCache --input /content/input --output /content/out\n",
        "\n",
        "  print(\"Zipping Output...\")\n",
        "  %cd /content\n",
        "  !zip -r out.zip ./out\n",
        "\n",
        "  print(\"Pushing result back to origin\")\n",
        "  !curl --data-binary @out.zip -X PUT -H \"Content-Type: text/plain\"  $ZIPUrl\n",
        "\n",
        "\n",
        "\n",
        "\n"
      ],
      "execution_count": null,
      "outputs": []
    },
    {
      "cell_type": "markdown",
      "metadata": {
        "id": "djxEKbwTSp6B"
      },
      "source": [
        "**Manual download:**"
      ]
    },
    {
      "cell_type": "code",
      "metadata": {
        "id": "qcTLfNhDSoPB"
      },
      "source": [
        "  print(\"Download.\")\n",
        "  from google.colab import files\n",
        "  files.download('out.zip')"
      ],
      "execution_count": null,
      "outputs": []
    }
  ]
}
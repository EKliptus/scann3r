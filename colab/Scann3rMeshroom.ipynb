{
  "nbformat": 4,
  "nbformat_minor": 0,
  "metadata": {
    "colab": {
      "name": "Scann3rMeshroom.ipynb",
      "provenance": [],
      "authorship_tag": "ABX9TyODJfeHqAp/iBFR/e7FHKxw",
      "include_colab_link": true
    },
    "kernelspec": {
      "name": "python3",
      "display_name": "Python 3"
    },
    "accelerator": "GPU"
  },
  "cells": [
    {
      "cell_type": "markdown",
      "metadata": {
        "id": "view-in-github",
        "colab_type": "text"
      },
      "source": [
        "<a href=\"https://colab.research.google.com/github/sui77/scann3r/blob/master/colab/Scann3rMeshroom.ipynb\" target=\"_parent\"><img src=\"https://colab.research.google.com/assets/colab-badge.svg\" alt=\"Open In Colab\"/></a>"
      ]
    },
    {
      "cell_type": "code",
      "metadata": {
        "id": "RQy3xeM-Tns5",
        "colab_type": "code",
        "colab": {}
      },
      "source": [
        "#@title File Location\n",
        "#@text foo\n",
        "\n",
        "ZIPUrl = '' #@param {type:\"string\"}\n",
        "\n",
        "%cd /content\n",
        "!mkdir temp\n",
        "!mkdir input\n",
        "!mkdir out\n",
        "!mkdir meshroom\n",
        "\n",
        "print(\"Downloading Images...\")\n",
        "!wget -O images.zip $ZIPUrl\n",
        "\n",
        "!rm /input/*.jpg\n",
        "!unzip images.zip -d ./input\n",
        "\n",
        "import os.path\n",
        "if not os.path.isfile('./input/0-0.jpg'):\n",
        "\n",
        "    print(\"First image not found. Stopping.\")\n",
        "\n",
        "else:\n",
        "\n",
        "  print(\"Downloading & installing Meshroom...\")\n",
        "  %cd temp\n",
        "  !wget -N https://github.com/alicevision/meshroom/releases/download/v2019.2.0/Meshroom-2019.2.0-linux.tar.gz\n",
        "  !tar -xf Meshroom-2019.2.0-linux.tar.gz -C ../meshroom\n",
        "\n",
        "  print(\"Running Meshroom...\")\n",
        "  !/content/meshroom/Meshroom-2019.2.0/meshroom_photogrammetry --input /content/input --output /content/out\n",
        "\n",
        "  print(\"Zipping Output...\")\n",
        "  %cd /content\n",
        "  !zip -r out.zip ./out\n",
        "\n",
        "  print(\"Download.\")\n",
        "  from google.colab import files\n",
        "  files.download('out.zip')\n",
        "\n",
        "\n"
      ],
      "execution_count": null,
      "outputs": []
    }
  ]
}